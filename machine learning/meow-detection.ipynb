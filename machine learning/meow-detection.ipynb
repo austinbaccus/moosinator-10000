{
 "cells": [
  {
   "cell_type": "markdown",
   "metadata": {},
   "source": [
    "<h1>Moosinator 10,000</h1>\n",
    "<h3>Turning cat audio into melspectrographic images for training</h3>\n"
   ]
  },
  {
   "cell_type": "code",
   "execution_count": 10,
   "metadata": {},
   "outputs": [],
   "source": [
    "import numpy as np\n",
    "import librosa as lr\n",
    "import matplotlib.pyplot as plt\n",
    "from pathlib import Path\n",
    "import warnings\n",
    "from PIL import Image\n",
    "import os\n",
    "\n",
    "def audio_to_image(path, height=192, width=192):\n",
    "    signal, sr = lr.load(path, res_type='kaiser_fast')\n",
    "    hl = signal.shape[0]//(width*1.1)\n",
    "    spec = lr.feature.melspectrogram(signal, n_mels=height, hop_length=int(hl))\n",
    "    img = lr.power_to_db(spec)**2\n",
    "    start = (img.shape[1] - width) // 2\n",
    "    return img[:, start:start+width]\n",
    "\n",
    "meow_images = []\n",
    "def cat_audio_to_images():\n",
    "    for i in range(1,200):\n",
    "        filename = 'data/cat_'+str(i)+'.wav'\n",
    "        if Path('./'+filename).exists():\n",
    "            with warnings.catch_warnings():\n",
    "                warnings.simplefilter('ignore')\n",
    "                img = audio_to_image(filename)\n",
    "                meow_images.append(img)\n",
    "                \n",
    "                # Uncomment this code to save new data\n",
    "                plt.imshow(img)\n",
    "                plt.savefig('./images/training/cat/cat_'+str(i)+'.png')\n",
    "\n",
    "def non_cat_audio_to_images():\n",
    "    for i in range(1,22):\n",
    "        filename = 'data_other/other_'+str(i)+'.wav'\n",
    "        if Path('./'+filename).exists():\n",
    "            with warnings.catch_warnings():\n",
    "                warnings.simplefilter('ignore')\n",
    "                img = audio_to_image(filename)\n",
    "                meow_images.append(img)\n",
    "                \n",
    "                # Uncomment this code to save new data\n",
    "                plt.imshow(img)\n",
    "                plt.savefig('./images/training/other/other_'+str(i)+'.png')\n",
    "\n",
    "# Uncomment this code to save new cat and non-cat data\n",
    "#cat_audio_to_images()\n",
    "#non_cat_audio_to_images()"
   ]
  },
  {
   "cell_type": "markdown",
   "metadata": {},
   "source": [
    "<h3>Building the CNN</h3>"
   ]
  },
  {
   "cell_type": "code",
   "execution_count": 11,
   "metadata": {},
   "outputs": [],
   "source": [
    "# Importing the Keras libraries and packages\n",
    "from keras.models import Sequential\n",
    "from keras.layers import Convolution2D\n",
    "from keras.layers import MaxPooling2D\n",
    "from keras.layers import Flatten\n",
    "from keras.layers import Dense\n",
    "\n",
    "# image size: 432x288\n",
    "height = 432\n",
    "width = 288\n",
    "\n",
    "#Initialising the CNN\n",
    "model = Sequential()\n",
    "# Step 1 - Convolution\n",
    "model.add(Convolution2D(32, 3, 3, input_shape = (height,width, 3), activation = 'relu'))\n",
    "# Step 2 - Pooling\n",
    "model.add(MaxPooling2D(pool_size = (2, 2)))\n",
    "# Adding a second convolutional layer\n",
    "model.add(Convolution2D(32, 3, 3, activation = 'relu'))\n",
    "model.add(MaxPooling2D(pool_size = (2, 2)))\n",
    "# Step 3 - Flattening\n",
    "model.add(Flatten())\n",
    "# Step 4 - Full connection\n",
    "model.add(Dense(128, activation = 'relu'))\n",
    "model.add(Dense(1, activation = 'sigmoid'))\n",
    "# Compiling the CNN\n",
    "model.compile(optimizer = 'adam', loss = 'binary_crossentropy', metrics = ['accuracy'])"
   ]
  },
  {
   "cell_type": "markdown",
   "metadata": {},
   "source": [
    "<h3>Filter training images to the CNN</h3>"
   ]
  },
  {
   "cell_type": "code",
   "execution_count": 12,
   "metadata": {},
   "outputs": [
    {
     "name": "stdout",
     "output_type": "stream",
     "text": [
      "Found 162 images belonging to 2 classes.\n",
      "Found 14 images belonging to 2 classes.\n"
     ]
    }
   ],
   "source": [
    "from keras.preprocessing.image import ImageDataGenerator\n",
    "\n",
    "# Data Augmentation\n",
    "train_datagen = ImageDataGenerator(rescale = 1./255,\n",
    "                                   shear_range = 0.2,\n",
    "                                   zoom_range = 0.2,\n",
    "                                   horizontal_flip = False)\n",
    "test_datagen = ImageDataGenerator(rescale = 1./255)\n",
    "training_set = train_datagen.flow_from_directory(r\"./images/training/\",\n",
    "                                                 target_size = (height,width),\n",
    "                                                 batch_size = 32, #32\n",
    "                                                 class_mode = 'binary')\n",
    "test_set = test_datagen.flow_from_directory(r\"./images/test/\",\n",
    "                                            target_size = (height,width),\n",
    "                                            batch_size = 32, #32\n",
    "                                            class_mode = 'binary')"
   ]
  },
  {
   "cell_type": "markdown",
   "metadata": {},
   "source": [
    "<h3>Let's start the training!</h3>"
   ]
  },
  {
   "cell_type": "code",
   "execution_count": 18,
   "metadata": {},
   "outputs": [
    {
     "name": "stdout",
     "output_type": "stream",
     "text": [
      "Epoch 1/100\n",
      "6/6 [==============================] - 4s 493ms/step - loss: 0.2959 - accuracy: 0.9012 - val_loss: 0.9900 - val_accuracy: 0.6429\n",
      "Epoch 2/100\n",
      "6/6 [==============================] - 3s 645ms/step - loss: 0.2441 - accuracy: 0.9012 - val_loss: 0.7604 - val_accuracy: 0.6429\n",
      "Epoch 3/100\n",
      "6/6 [==============================] - 3s 520ms/step - loss: 0.2269 - accuracy: 0.9012 - val_loss: 0.9951 - val_accuracy: 0.6429\n",
      "Epoch 4/100\n",
      "6/6 [==============================] - 3s 460ms/step - loss: 0.2010 - accuracy: 0.9012 - val_loss: 0.8810 - val_accuracy: 0.6429\n",
      "Epoch 5/100\n",
      "6/6 [==============================] - 3s 569ms/step - loss: 0.1530 - accuracy: 0.9136 - val_loss: 0.7714 - val_accuracy: 0.6429\n",
      "Epoch 6/100\n",
      "6/6 [==============================] - 3s 484ms/step - loss: 0.1475 - accuracy: 0.9259 - val_loss: 0.7065 - val_accuracy: 0.6429\n",
      "Epoch 7/100\n",
      "6/6 [==============================] - 3s 519ms/step - loss: 0.1151 - accuracy: 0.9568 - val_loss: 0.7107 - val_accuracy: 0.7143\n",
      "Epoch 8/100\n",
      "6/6 [==============================] - 3s 491ms/step - loss: 0.1014 - accuracy: 0.9383 - val_loss: 0.4603 - val_accuracy: 0.7857\n",
      "Epoch 9/100\n",
      "6/6 [==============================] - 3s 465ms/step - loss: 0.0774 - accuracy: 0.9938 - val_loss: 0.7548 - val_accuracy: 0.7857\n",
      "Epoch 10/100\n",
      "6/6 [==============================] - 3s 464ms/step - loss: 0.0577 - accuracy: 0.9877 - val_loss: 0.8914 - val_accuracy: 0.8571\n",
      "Epoch 11/100\n",
      "6/6 [==============================] - 3s 532ms/step - loss: 0.0406 - accuracy: 0.9938 - val_loss: 0.7970 - val_accuracy: 0.8571\n",
      "Epoch 12/100\n",
      "6/6 [==============================] - 3s 460ms/step - loss: 0.0477 - accuracy: 0.9815 - val_loss: 0.7518 - val_accuracy: 0.8571\n",
      "Epoch 13/100\n",
      "6/6 [==============================] - 3s 498ms/step - loss: 0.0419 - accuracy: 0.9815 - val_loss: 1.0220 - val_accuracy: 0.7857\n",
      "Epoch 14/100\n",
      "6/6 [==============================] - 3s 459ms/step - loss: 0.0325 - accuracy: 0.9877 - val_loss: 0.6242 - val_accuracy: 0.8571\n",
      "Epoch 15/100\n",
      "6/6 [==============================] - 3s 546ms/step - loss: 0.0532 - accuracy: 0.9753 - val_loss: 1.6270 - val_accuracy: 0.7143\n",
      "Epoch 16/100\n",
      "6/6 [==============================] - 3s 464ms/step - loss: 0.0352 - accuracy: 0.9877 - val_loss: 0.7947 - val_accuracy: 0.8571\n",
      "Epoch 17/100\n",
      "6/6 [==============================] - 3s 455ms/step - loss: 0.0143 - accuracy: 1.0000 - val_loss: 1.3737 - val_accuracy: 0.8571\n",
      "Epoch 18/100\n",
      "6/6 [==============================] - 3s 373ms/step - loss: 0.0326 - accuracy: 0.9877 - val_loss: 0.9002 - val_accuracy: 0.8571\n",
      "Epoch 19/100\n",
      "6/6 [==============================] - 3s 508ms/step - loss: 0.0212 - accuracy: 0.9877 - val_loss: 1.1783 - val_accuracy: 0.8571\n",
      "Epoch 20/100\n",
      "6/6 [==============================] - 3s 403ms/step - loss: 0.0117 - accuracy: 1.0000 - val_loss: 1.2234 - val_accuracy: 0.8571\n",
      "Epoch 21/100\n",
      "6/6 [==============================] - 3s 455ms/step - loss: 0.0104 - accuracy: 1.0000 - val_loss: 1.0970 - val_accuracy: 0.8571\n",
      "Epoch 22/100\n",
      "6/6 [==============================] - 3s 669ms/step - loss: 0.0168 - accuracy: 0.9938 - val_loss: 1.3530 - val_accuracy: 0.8571\n",
      "Epoch 23/100\n",
      "6/6 [==============================] - 3s 586ms/step - loss: 0.0157 - accuracy: 0.9877 - val_loss: 1.3562 - val_accuracy: 0.8571\n",
      "Epoch 24/100\n",
      "6/6 [==============================] - 3s 458ms/step - loss: 0.0115 - accuracy: 1.0000 - val_loss: 1.1610 - val_accuracy: 0.8571\n",
      "Epoch 25/100\n",
      "6/6 [==============================] - 3s 560ms/step - loss: 0.0247 - accuracy: 0.9938 - val_loss: 1.3249 - val_accuracy: 0.8571\n",
      "Epoch 26/100\n",
      "6/6 [==============================] - 3s 379ms/step - loss: 0.0330 - accuracy: 0.9938 - val_loss: 1.0002 - val_accuracy: 0.8571\n",
      "Epoch 27/100\n",
      "6/6 [==============================] - 3s 475ms/step - loss: 0.0073 - accuracy: 1.0000 - val_loss: 1.9753 - val_accuracy: 0.8571\n",
      "Epoch 28/100\n",
      "6/6 [==============================] - 3s 648ms/step - loss: 0.0106 - accuracy: 1.0000 - val_loss: 1.8977 - val_accuracy: 0.8571\n",
      "Epoch 29/100\n",
      "6/6 [==============================] - 4s 570ms/step - loss: 0.0074 - accuracy: 1.0000 - val_loss: 1.5207 - val_accuracy: 0.8571\n",
      "Epoch 30/100\n",
      "6/6 [==============================] - 3s 438ms/step - loss: 0.0109 - accuracy: 0.9938 - val_loss: 1.7200 - val_accuracy: 0.8571\n",
      "Epoch 31/100\n",
      "6/6 [==============================] - 3s 666ms/step - loss: 0.0050 - accuracy: 1.0000 - val_loss: 1.6095 - val_accuracy: 0.8571\n",
      "Epoch 32/100\n",
      "6/6 [==============================] - 4s 554ms/step - loss: 0.0060 - accuracy: 1.0000 - val_loss: 1.7338 - val_accuracy: 0.8571\n",
      "Epoch 33/100\n",
      "6/6 [==============================] - 3s 433ms/step - loss: 0.0084 - accuracy: 1.0000 - val_loss: 1.7849 - val_accuracy: 0.8571\n",
      "Epoch 34/100\n",
      "6/6 [==============================] - 3s 510ms/step - loss: 0.0065 - accuracy: 1.0000 - val_loss: 1.8572 - val_accuracy: 0.8571\n",
      "Epoch 35/100\n",
      "6/6 [==============================] - 3s 529ms/step - loss: 0.0035 - accuracy: 1.0000 - val_loss: 1.7494 - val_accuracy: 0.8571\n",
      "Epoch 36/100\n",
      "6/6 [==============================] - 3s 521ms/step - loss: 0.0074 - accuracy: 1.0000 - val_loss: 1.9910 - val_accuracy: 0.8571\n",
      "Epoch 37/100\n",
      "6/6 [==============================] - 3s 509ms/step - loss: 0.0117 - accuracy: 0.9938 - val_loss: 1.6127 - val_accuracy: 0.8571\n",
      "Epoch 38/100\n",
      "6/6 [==============================] - 3s 460ms/step - loss: 0.0153 - accuracy: 0.9877 - val_loss: 1.1053 - val_accuracy: 0.8571\n",
      "Epoch 39/100\n",
      "6/6 [==============================] - 3s 494ms/step - loss: 0.0301 - accuracy: 0.9938 - val_loss: 1.7932 - val_accuracy: 0.8571\n",
      "Epoch 40/100\n",
      "6/6 [==============================] - 3s 564ms/step - loss: 0.0074 - accuracy: 0.9938 - val_loss: 3.2844 - val_accuracy: 0.7857\n",
      "Epoch 41/100\n",
      "6/6 [==============================] - 3s 591ms/step - loss: 0.0254 - accuracy: 0.9877 - val_loss: 2.1769 - val_accuracy: 0.8571\n",
      "Epoch 42/100\n",
      "6/6 [==============================] - 3s 459ms/step - loss: 0.0219 - accuracy: 0.9877 - val_loss: 1.7618 - val_accuracy: 0.8571\n",
      "Epoch 43/100\n",
      "6/6 [==============================] - 4s 617ms/step - loss: 0.0062 - accuracy: 1.0000 - val_loss: 2.3553 - val_accuracy: 0.8571\n",
      "Epoch 44/100\n",
      "6/6 [==============================] - 3s 454ms/step - loss: 0.0180 - accuracy: 0.9938 - val_loss: 1.8533 - val_accuracy: 0.8571\n",
      "Epoch 45/100\n",
      "6/6 [==============================] - 4s 523ms/step - loss: 0.0040 - accuracy: 1.0000 - val_loss: 1.2963 - val_accuracy: 0.8571\n",
      "Epoch 46/100\n",
      "6/6 [==============================] - 3s 454ms/step - loss: 0.0113 - accuracy: 0.9938 - val_loss: 1.9624 - val_accuracy: 0.8571\n",
      "Epoch 47/100\n",
      "6/6 [==============================] - 3s 622ms/step - loss: 0.0023 - accuracy: 1.0000 - val_loss: 2.2287 - val_accuracy: 0.8571\n",
      "Epoch 48/100\n",
      "6/6 [==============================] - 3s 503ms/step - loss: 0.0189 - accuracy: 0.9877 - val_loss: 2.1054 - val_accuracy: 0.8571\n",
      "Epoch 49/100\n",
      "6/6 [==============================] - 3s 419ms/step - loss: 0.0047 - accuracy: 1.0000 - val_loss: 2.0998 - val_accuracy: 0.8571\n",
      "Epoch 50/100\n",
      "6/6 [==============================] - 3s 499ms/step - loss: 0.0021 - accuracy: 1.0000 - val_loss: 2.6363 - val_accuracy: 0.8571\n",
      "Epoch 51/100\n",
      "6/6 [==============================] - 3s 609ms/step - loss: 0.0059 - accuracy: 1.0000 - val_loss: 2.6445 - val_accuracy: 0.8571\n",
      "Epoch 52/100\n",
      "6/6 [==============================] - 3s 526ms/step - loss: 0.0024 - accuracy: 1.0000 - val_loss: 2.4332 - val_accuracy: 0.8571\n",
      "Epoch 53/100\n",
      "6/6 [==============================] - 3s 430ms/step - loss: 0.0015 - accuracy: 1.0000 - val_loss: 2.2883 - val_accuracy: 0.8571\n",
      "Epoch 54/100\n",
      "6/6 [==============================] - 3s 558ms/step - loss: 0.0035 - accuracy: 1.0000 - val_loss: 2.2907 - val_accuracy: 0.8571\n",
      "Epoch 55/100\n",
      "6/6 [==============================] - 3s 469ms/step - loss: 0.0010 - accuracy: 1.0000 - val_loss: 2.5640 - val_accuracy: 0.8571\n",
      "Epoch 56/100\n",
      "6/6 [==============================] - 3s 477ms/step - loss: 0.0142 - accuracy: 0.9938 - val_loss: 2.0619 - val_accuracy: 0.8571\n",
      "Epoch 57/100\n",
      "6/6 [==============================] - 3s 454ms/step - loss: 0.0103 - accuracy: 0.9938 - val_loss: 2.0852 - val_accuracy: 0.8571\n",
      "Epoch 58/100\n",
      "6/6 [==============================] - 3s 459ms/step - loss: 0.0013 - accuracy: 1.0000 - val_loss: 2.3862 - val_accuracy: 0.8571\n",
      "Epoch 59/100\n",
      "6/6 [==============================] - 3s 511ms/step - loss: 0.0045 - accuracy: 1.0000 - val_loss: 2.2726 - val_accuracy: 0.8571\n",
      "Epoch 60/100\n",
      "6/6 [==============================] - 3s 419ms/step - loss: 0.0014 - accuracy: 1.0000 - val_loss: 2.3062 - val_accuracy: 0.8571\n",
      "Epoch 61/100\n",
      "6/6 [==============================] - 3s 493ms/step - loss: 0.0012 - accuracy: 1.0000 - val_loss: 2.3877 - val_accuracy: 0.8571\n",
      "Epoch 62/100\n",
      "6/6 [==============================] - 3s 405ms/step - loss: 0.0016 - accuracy: 1.0000 - val_loss: 2.5047 - val_accuracy: 0.8571\n",
      "Epoch 63/100\n",
      "6/6 [==============================] - 3s 465ms/step - loss: 7.2877e-04 - accuracy: 1.0000 - val_loss: 2.6530 - val_accuracy: 0.8571\n",
      "Epoch 64/100\n",
      "6/6 [==============================] - 3s 419ms/step - loss: 9.5953e-04 - accuracy: 1.0000 - val_loss: 2.6952 - val_accuracy: 0.8571\n",
      "Epoch 65/100\n",
      "6/6 [==============================] - 3s 611ms/step - loss: 0.0019 - accuracy: 1.0000 - val_loss: 2.6643 - val_accuracy: 0.8571\n",
      "Epoch 66/100\n",
      "6/6 [==============================] - 3s 466ms/step - loss: 7.9934e-04 - accuracy: 1.0000 - val_loss: 2.5959 - val_accuracy: 0.8571\n",
      "Epoch 67/100\n",
      "6/6 [==============================] - 3s 474ms/step - loss: 0.0027 - accuracy: 1.0000 - val_loss: 2.3675 - val_accuracy: 0.8571\n",
      "Epoch 68/100\n",
      "6/6 [==============================] - 3s 472ms/step - loss: 0.0014 - accuracy: 1.0000 - val_loss: 2.3114 - val_accuracy: 0.8571\n",
      "Epoch 69/100\n",
      "6/6 [==============================] - 3s 515ms/step - loss: 0.0029 - accuracy: 1.0000 - val_loss: 2.7393 - val_accuracy: 0.8571\n",
      "Epoch 70/100\n",
      "6/6 [==============================] - 3s 461ms/step - loss: 0.0051 - accuracy: 1.0000 - val_loss: 2.5665 - val_accuracy: 0.8571\n",
      "Epoch 71/100\n",
      "6/6 [==============================] - 3s 594ms/step - loss: 0.0011 - accuracy: 1.0000 - val_loss: 2.3465 - val_accuracy: 0.8571\n",
      "Epoch 72/100\n",
      "6/6 [==============================] - 3s 477ms/step - loss: 0.0019 - accuracy: 1.0000 - val_loss: 2.4961 - val_accuracy: 0.8571\n",
      "Epoch 73/100\n",
      "6/6 [==============================] - 3s 545ms/step - loss: 6.8273e-04 - accuracy: 1.0000 - val_loss: 2.7478 - val_accuracy: 0.8571\n",
      "Epoch 74/100\n",
      "6/6 [==============================] - 3s 419ms/step - loss: 0.0026 - accuracy: 1.0000 - val_loss: 2.5474 - val_accuracy: 0.8571\n",
      "Epoch 75/100\n",
      "6/6 [==============================] - 3s 460ms/step - loss: 6.9383e-04 - accuracy: 1.0000 - val_loss: 2.3287 - val_accuracy: 0.8571\n",
      "Epoch 76/100\n",
      "6/6 [==============================] - 3s 438ms/step - loss: 0.0016 - accuracy: 1.0000 - val_loss: 2.5571 - val_accuracy: 0.8571\n",
      "Epoch 77/100\n",
      "6/6 [==============================] - 3s 376ms/step - loss: 3.0966e-04 - accuracy: 1.0000 - val_loss: 2.7391 - val_accuracy: 0.8571\n",
      "Epoch 78/100\n",
      "6/6 [==============================] - 3s 488ms/step - loss: 5.2071e-04 - accuracy: 1.0000 - val_loss: 2.8146 - val_accuracy: 0.8571\n",
      "Epoch 79/100\n",
      "6/6 [==============================] - 3s 440ms/step - loss: 5.3877e-04 - accuracy: 1.0000 - val_loss: 2.8190 - val_accuracy: 0.8571\n",
      "Epoch 80/100\n",
      "6/6 [==============================] - 3s 422ms/step - loss: 0.0023 - accuracy: 1.0000 - val_loss: 2.6335 - val_accuracy: 0.8571\n",
      "Epoch 81/100\n",
      "6/6 [==============================] - 3s 468ms/step - loss: 0.0010 - accuracy: 1.0000 - val_loss: 2.6636 - val_accuracy: 0.8571\n",
      "Epoch 82/100\n",
      "6/6 [==============================] - 3s 458ms/step - loss: 8.0477e-04 - accuracy: 1.0000 - val_loss: 2.8761 - val_accuracy: 0.8571\n",
      "Epoch 83/100\n",
      "6/6 [==============================] - 3s 445ms/step - loss: 4.9662e-04 - accuracy: 1.0000 - val_loss: 3.0412 - val_accuracy: 0.8571\n",
      "Epoch 84/100\n",
      "6/6 [==============================] - 3s 475ms/step - loss: 4.0068e-04 - accuracy: 1.0000 - val_loss: 3.0976 - val_accuracy: 0.8571\n",
      "Epoch 85/100\n",
      "6/6 [==============================] - 3s 471ms/step - loss: 0.0012 - accuracy: 1.0000 - val_loss: 3.0578 - val_accuracy: 0.8571\n",
      "Epoch 86/100\n",
      "6/6 [==============================] - 3s 499ms/step - loss: 6.4798e-04 - accuracy: 1.0000 - val_loss: 3.0927 - val_accuracy: 0.8571\n",
      "Epoch 87/100\n",
      "6/6 [==============================] - 3s 466ms/step - loss: 0.0013 - accuracy: 1.0000 - val_loss: 2.8776 - val_accuracy: 0.8571\n",
      "Epoch 88/100\n",
      "6/6 [==============================] - 3s 459ms/step - loss: 9.4122e-04 - accuracy: 1.0000 - val_loss: 2.8259 - val_accuracy: 0.8571\n",
      "Epoch 89/100\n",
      "6/6 [==============================] - 3s 503ms/step - loss: 0.0011 - accuracy: 1.0000 - val_loss: 2.7561 - val_accuracy: 0.8571\n",
      "Epoch 90/100\n",
      "6/6 [==============================] - 3s 486ms/step - loss: 4.4506e-04 - accuracy: 1.0000 - val_loss: 2.7955 - val_accuracy: 0.8571\n",
      "Epoch 91/100\n",
      "6/6 [==============================] - 3s 470ms/step - loss: 5.9323e-04 - accuracy: 1.0000 - val_loss: 2.9336 - val_accuracy: 0.8571\n",
      "Epoch 92/100\n",
      "6/6 [==============================] - 3s 513ms/step - loss: 8.7029e-04 - accuracy: 1.0000 - val_loss: 2.3148 - val_accuracy: 0.8571\n",
      "Epoch 93/100\n",
      "6/6 [==============================] - 3s 384ms/step - loss: 0.0070 - accuracy: 1.0000 - val_loss: 2.4995 - val_accuracy: 0.8571\n",
      "Epoch 94/100\n",
      "6/6 [==============================] - 3s 464ms/step - loss: 0.0018 - accuracy: 1.0000 - val_loss: 3.3255 - val_accuracy: 0.8571\n",
      "Epoch 95/100\n",
      "6/6 [==============================] - 3s 468ms/step - loss: 0.0181 - accuracy: 0.9938 - val_loss: 2.2928 - val_accuracy: 0.8571\n",
      "Epoch 96/100\n",
      "6/6 [==============================] - 3s 463ms/step - loss: 0.0140 - accuracy: 0.9938 - val_loss: 4.6373 - val_accuracy: 0.7857\n",
      "Epoch 97/100\n",
      "6/6 [==============================] - 3s 555ms/step - loss: 0.0228 - accuracy: 0.9938 - val_loss: 3.6246 - val_accuracy: 0.8571\n",
      "Epoch 98/100\n",
      "6/6 [==============================] - 4s 531ms/step - loss: 0.0016 - accuracy: 1.0000 - val_loss: 3.2760 - val_accuracy: 0.8571\n",
      "Epoch 99/100\n",
      "6/6 [==============================] - 3s 443ms/step - loss: 4.0180e-04 - accuracy: 1.0000 - val_loss: 3.4988 - val_accuracy: 0.8571\n",
      "Epoch 100/100\n",
      "6/6 [==============================] - 3s 608ms/step - loss: 0.0013 - accuracy: 1.0000 - val_loss: 3.6151 - val_accuracy: 0.8571\n"
     ]
    },
    {
     "data": {
      "text/plain": [
       "<keras.callbacks.History at 0x2414e9d5f00>"
      ]
     },
     "execution_count": 18,
     "metadata": {},
     "output_type": "execute_result"
    }
   ],
   "source": [
    "epochs = 100\n",
    "from tensorflow import keras\n",
    "\n",
    "callbacks = [\n",
    "    keras.callbacks.ModelCheckpoint(\"./models/meow_model.h5\"),\n",
    "]\n",
    "model.compile(\n",
    "    optimizer=keras.optimizers.Adam(1e-3),\n",
    "    loss=\"binary_crossentropy\",\n",
    "    metrics=[\"accuracy\"],\n",
    ")\n",
    "model.fit(\n",
    "    training_set, epochs=epochs, callbacks=callbacks, validation_data=test_set,\n",
    ")"
   ]
  },
  {
   "cell_type": "markdown",
   "metadata": {},
   "source": [
    "<h3>Loading the model</h3>\n",
    "\n",
    "If you've already trained the model, you can skip the above cell and jump straight to this part."
   ]
  },
  {
   "cell_type": "code",
   "execution_count": 19,
   "metadata": {},
   "outputs": [],
   "source": [
    "model = keras.models.load_model('models/meow_model.h5')"
   ]
  },
  {
   "cell_type": "markdown",
   "metadata": {},
   "source": [
    "<h3>Running the model on new data</h3>"
   ]
  },
  {
   "cell_type": "code",
   "execution_count": 20,
   "metadata": {},
   "outputs": [],
   "source": [
    "import tensorflow as tf\n",
    "\n",
    "def run_inference_on_new_data(audio_path, img_path):\n",
    "    #img = audio_to_image(audio_path)\n",
    "    #plt.imshow(img)\n",
    "    #plt.savefig(img_path)\n",
    "\n",
    "    # classify this image as a meow or not\n",
    "    image_size = (432, 288)\n",
    "    img = keras.preprocessing.image.load_img(img_path, target_size=image_size)\n",
    "    img_array = keras.preprocessing.image.img_to_array(img)\n",
    "    img_array = tf.expand_dims(img_array, 0)  # Create batch axis\n",
    "    predictions = model.predict(img_array)\n",
    "    score = predictions[0]\n",
    "    return 100 * (1-score[0])"
   ]
  },
  {
   "cell_type": "code",
   "execution_count": 21,
   "metadata": {},
   "outputs": [
    {
     "name": "stdout",
     "output_type": "stream",
     "text": [
      "probability of meow (sound is 'meow'): 0.0%\n"
     ]
    }
   ],
   "source": [
    "print ('probability of meow (sound is \\'meow\\'):', str(run_inference_on_new_data('./audio_to_analyze/meow.wav', 'images_to_analyze/meow.png')) + '%')"
   ]
  },
  {
   "cell_type": "code",
   "execution_count": 22,
   "metadata": {},
   "outputs": [
    {
     "name": "stdout",
     "output_type": "stream",
     "text": [
      "probability of meow (sound is 'achoo'): 0.0%\n"
     ]
    }
   ],
   "source": [
    "print ('probability of meow (sound is \\'achoo\\'):', str(run_inference_on_new_data('./audio_to_analyze/achoo.wav', 'images_to_analyze/achoo.png')) + '%')"
   ]
  }
 ],
 "metadata": {
  "interpreter": {
   "hash": "b3ba2566441a7c06988d0923437866b63cedc61552a5af99d1f4fb67d367b25f"
  },
  "kernelspec": {
   "display_name": "Python 3.9.7 ('base')",
   "language": "python",
   "name": "python3"
  },
  "language_info": {
   "codemirror_mode": {
    "name": "ipython",
    "version": 3
   },
   "file_extension": ".py",
   "mimetype": "text/x-python",
   "name": "python",
   "nbconvert_exporter": "python",
   "pygments_lexer": "ipython3",
   "version": "3.10.1"
  },
  "orig_nbformat": 4
 },
 "nbformat": 4,
 "nbformat_minor": 2
}
